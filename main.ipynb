{
 "cells": [
  {
   "cell_type": "code",
   "execution_count": 2,
   "metadata": {},
   "outputs": [],
   "source": [
    "import numpy as np\n",
    "import sklearn\n",
    "from sklearn.preprocessing import StandardScaler\n",
    "from torchvision import datasets, transforms\n",
    "import zipfile"
   ]
  },
  {
   "cell_type": "code",
   "execution_count": 4,
   "metadata": {},
   "outputs": [],
   "source": [
    "def extract_data(_dir):\n",
    "    for pic_type in ['color', 'grayscale', 'segmented']:\n",
    "        with zipfile.ZipFile(f'{_dir}/{pic_type}.zip') as zf:\n",
    "            zf.extractall(f'{_dir}/imgs/')\n",
    "\n",
    "extract_data('data')"
   ]
  },
  {
   "cell_type": "code",
   "execution_count": 6,
   "metadata": {},
   "outputs": [],
   "source": [
    "# Set up scaler.\n",
    "scaler = StandardScaler()\n",
    "\n",
    "def preprocess(data):\n",
    "    if data is None:  # val/test can be empty\n",
    "        return None\n",
    "    # Read image files to pytorch dataset (only temporary).\n",
    "    transform = transforms.Compose([\n",
    "        transforms.Resize(64), \n",
    "        transforms.CenterCrop(64), \n",
    "        transforms.ToTensor()\n",
    "    ])\n",
    "    data = datasets.ImageFolder(data, transform=transform)\n",
    "\n",
    "    # Convert to numpy arrays.\n",
    "    images_shape = (len(data), *data[0][0].shape)\n",
    "    images = np.zeros(images_shape)\n",
    "    labels = np.zeros(len(data))\n",
    "    for i, (image, label) in enumerate(data):\n",
    "        images[i] = image\n",
    "        labels[i] = label\n",
    "\n",
    "    # Flatten.\n",
    "    images = images.reshape(len(images), -1)\n",
    "\n",
    "    # Scale to mean 0 and std 1.\n",
    "    scaler.fit(images)\n",
    "    images = scaler.transform(images)\n",
    "\n",
    "    # Shuffle train set.\n",
    "    images, labels = sklearn.utils.shuffle(images, labels)\n",
    "\n",
    "    return [images, labels]\n",
    "\n",
    "color_data = preprocess(\"data/imgs/color\")\n",
    "grayscale_data = preprocess(\"data/imgs/grayscale\")\n",
    "segmented_data = preprocess(\"data/imgs/segmented\")"
   ]
  },
  {
   "cell_type": "code",
   "execution_count": 13,
   "metadata": {},
   "outputs": [],
   "source": [
    "from sklearn.model_selection import train_test_split\n",
    "\n",
    "CX_train, CX_test, Cy_train, Cy_test = train_test_split(color_data[0], color_data[1], test_size=0.2)\n",
    "GX_train, GX_test, Gy_train, Gy_test = train_test_split(grayscale_data[0], grayscale_data[1], test_size=0.2)\n",
    "SX_train, SX_test, Sy_train, Sy_test = train_test_split(segmented_data[0], segmented_data[1], test_size=0.2)"
   ]
  },
  {
   "cell_type": "code",
   "execution_count": 19,
   "metadata": {},
   "outputs": [],
   "source": [
    "from sklearn.ensemble import RandomForestClassifier\n",
    "\n",
    "model = RandomForestClassifier()"
   ]
  },
  {
   "cell_type": "code",
   "execution_count": 20,
   "metadata": {},
   "outputs": [
    {
     "data": {
      "text/plain": [
       "RandomForestClassifier()"
      ]
     },
     "execution_count": 20,
     "metadata": {},
     "output_type": "execute_result"
    }
   ],
   "source": [
    "model.fit(CX_train, Cy_train)"
   ]
  },
  {
   "cell_type": "code",
   "execution_count": 21,
   "metadata": {},
   "outputs": [
    {
     "data": {
      "text/plain": [
       "0.9393414211438474"
      ]
     },
     "execution_count": 21,
     "metadata": {},
     "output_type": "execute_result"
    }
   ],
   "source": [
    "model.score(CX_test, Cy_test)"
   ]
  },
  {
   "cell_type": "code",
   "execution_count": 24,
   "metadata": {},
   "outputs": [],
   "source": [
    "import matplotlib.pyplot as plt\n",
    "\n",
    "def plot_confusion_matrix(cm, font_size=14):\n",
    "    fig, ax = plt.subplots(figsize=(8, 8))\n",
    "    ax.imshow(cm)\n",
    "    ax.grid(False)\n",
    "    ax.xaxis.set(ticks=range(3))\n",
    "    ax.yaxis.set(ticks=range(3))\n",
    "    ax.set_ylim(2.5, -0.5)\n",
    "    for i in range(3):\n",
    "        for j in range(3):\n",
    "            ax.text(j, i, cm[i, j], ha='center', va='center', color='white')\n",
    "    plt.show()"
   ]
  },
  {
   "cell_type": "code",
   "execution_count": 25,
   "metadata": {},
   "outputs": [
    {
     "name": "stdout",
     "output_type": "stream",
     "text": [
      "Score de treino: 1.0\n",
      "Score de teste: 0.9393414211438474\n"
     ]
    },
    {
     "data": {
      "image/png": "[encoded data removed]",
      "text/plain": [
       "<Figure size 576x576 with 1 Axes>"
      ]
     },
     "metadata": {
      "needs_background": "light"
     },
     "output_type": "display_data"
    }
   ],
   "source": [
    "# Avaliando o modelo\n",
    "from sklearn.metrics import classification_report, confusion_matrix\n",
    "\n",
    "p_pred = model.predict_proba(CX_test)\n",
    "y_pred = model.predict(CX_test)\n",
    "score_train = model.score(CX_train, Cy_train)\n",
    "score = model.score(CX_test, Cy_test)\n",
    "conf_m = confusion_matrix(Cy_test, y_pred)\n",
    "report = classification_report(Cy_test, y_pred)\n",
    "\n",
    "# Analisando se houve overfitting\n",
    "print(f'Score de treino: {score_train}')\n",
    "print(f'Score de teste: {score}')\n",
    "\n",
    "plot_confusion_matrix(conf_m)"
   ]
  },
  {
   "cell_type": "code",
   "execution_count": 26,
   "metadata": {},
   "outputs": [
    {
     "name": "stdout",
     "output_type": "stream",
     "text": [
      "              precision    recall  f1-score   support\n",
      "\n",
      "         0.0       0.91      1.00      0.95       263\n",
      "         1.0       0.96      0.93      0.95       237\n",
      "         2.0       1.00      0.77      0.87        77\n",
      "\n",
      "    accuracy                           0.94       577\n",
      "   macro avg       0.96      0.90      0.92       577\n",
      "weighted avg       0.94      0.94      0.94       577\n",
      "\n"
     ]
    }
   ],
   "source": [
    "print(report)"
   ]
  },
  {
   "cell_type": "code",
   "execution_count": null,
   "metadata": {},
   "outputs": [],
   "source": []
  }
 ],
 "metadata": {
  "interpreter": {
   "hash": "fa576379fcd04708dfce812f4c8b63e8168c2ee8e0a99dfbb61bc85a86d34b1f"
  },
  "kernelspec": {
   "display_name": "Python 3.8.10 ('cls': venv)",
   "language": "python",
   "name": "python3"
  },
  "language_info": {
   "codemirror_mode": {
    "name": "ipython",
    "version": 3
   },
   "file_extension": ".py",
   "mimetype": "text/x-python",
   "name": "python",
   "nbconvert_exporter": "python",
   "pygments_lexer": "ipython3",
   "version": "3.8.10"
  },
  "orig_nbformat": 4
 },
 "nbformat": 4,
 "nbformat_minor": 2
}
